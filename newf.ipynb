{
 "cells": [
  {
   "cell_type": "code",
   "execution_count": 6,
   "metadata": {},
   "outputs": [
    {
     "name": "stdout",
     "output_type": "stream",
     "text": [
      "The closest word to 'snowing' is 'snow' with a similarity of 0.6486\n"
     ]
    }
   ],
   "source": [
    "from gensim.models import KeyedVectors\n",
    "import numpy as np\n",
    "from sklearn.metrics.pairwise import cosine_similarity\n",
    "\n",
    "model_path = 'GoogleNews-vectors-negative300.bin'\n",
    "model = KeyedVectors.load_word2vec_format(model_path, binary=True)\n",
    "\n",
    "def get_vector(phrase, model):\n",
    "    words = phrase.split()\n",
    "    word_vectors = [model[word] for word in words if word in model]\n",
    "    if word_vectors:\n",
    "        return np.mean(word_vectors, axis=0)\n",
    "    else:\n",
    "        return None\n",
    "\n",
    "def find_closest(word_list, new_word, model):\n",
    "    new_word_vector = get_vector(new_word, model)\n",
    "    if new_word_vector is None:\n",
    "        return None, None\n",
    "    \n",
    "    max_similarity = -1\n",
    "    closest_word = None\n",
    "    for word in word_list:\n",
    "        word_vector = get_vector(word, model)\n",
    "        if word_vector is not None:\n",
    "            similarity = cosine_similarity([new_word_vector], [word_vector])[0][0]\n",
    "            if similarity > max_similarity:\n",
    "                max_similarity = similarity\n",
    "                closest_word = word\n",
    "    \n",
    "    return closest_word, max_similarity\n",
    "\n",
    "# Example usage\n",
    "word_list = ['Partly Cloudy', 'Mostly Cloudy', 'Overcast', 'Foggy', 'Breezy and Mostly Cloudy', 'Clear',\n",
    "    'Breezy and Partly Cloudy', 'Breezy and Overcast', 'Humid and Mostly Cloudy', 'Humid and Partly Cloudy',\n",
    "    'Windy and Foggy', 'Windy and Overcast', 'Breezy and Foggy', 'Windy and Partly Cloudy', 'Breezy',\n",
    "    'Dry and Partly Cloudy', 'Windy and Mostly Cloudy', 'Dangerously Windy and Partly Cloudy', 'Dry',\n",
    "    'Windy', 'Humid and Overcast', 'Light Rain', 'Drizzle', 'Windy and Dry', 'Dry and Mostly Cloudy',\n",
    "    'Breezy and Dry', 'Rain']\n",
    "wordi=['snow']\n",
    "\n",
    "new_word = \"snowing\"\n",
    "closest_word, similarity = find_closest(wordi, new_word, model)\n",
    "if closest_word:\n",
    "    print(f\"The closest word to '{new_word}' is '{closest_word}' with a similarity of {similarity:.4f}\")\n",
    "else:\n",
    "    print(f\"No close word found for '{new_word}'\")\n"
   ]
  },
  {
   "cell_type": "code",
   "execution_count": 16,
   "metadata": {},
   "outputs": [
    {
     "name": "stdout",
     "output_type": "stream",
     "text": [
      "It is going to rain and it might snow later but the weather is unpredictable.\n"
     ]
    }
   ],
   "source": [
    "import gensim.downloader as api\n",
    "from gensim.models import KeyedVectors\n",
    "from nltk.corpus import stopwords\n",
    "from nltk.tokenize import word_tokenize\n",
    "from typing import List, Set\n",
    "\n",
    "# Downloading the Word2Vec model\n",
    "model_path = 'GoogleNews-vectors-negative300.bin'\n",
    "model = KeyedVectors.load_word2vec_format(model_path, binary=True)\n",
    "\n",
    "# Define weather-related words\n",
    "weather_related_words: Set[str] = {\n",
    "    \"sun\", \"rain\", \"cloud\", \"storm\", \"snow\", \"hot\", \"cold\", \"summer\", \"autumn\", \"avalanche\", \"breeze\", \"cloudburst\",\n",
    "    \"cloud\", \"cold\", \"wave\", \"humid\", \"dry\", \"wind\", \"little\", \"and\", \"moderate\", \"cyclone\", \"dew\", \"downburst\",\n",
    "    \"downwind\", \"drizzle\", \"storm\", \"dust\", \"sunlight\", \"fall\", \"fair\", \"flood\", \"fog\", \"freeze\", \"frost\", \"cloud\",\n",
    "    \"heat\", \"hurricane\", \"chill\", \"lightning\", \"mist\", \"overcast\", \"shower\", \"thunder\", \"warm\"\n",
    "}\n",
    "\n",
    "# Define stop words and negations\n",
    "stop_words: Set[str] = set(stopwords.words('english'))\n",
    "negations: Set[str] = {\"not\", \"no\", \"never\", \"none\"}\n",
    "\n",
    "# List of words/phrases to compare with\n",
    "comparison_list: List[str] = [\n",
    "    'Partly Cloudy', 'Mostly Cloudy', 'Overcast', 'Foggy', 'Breezy and Mostly Cloudy', 'Clear',\n",
    "    'Breezy and Partly Cloudy', 'Breezy and Overcast', 'Humid and Mostly Cloudy', 'Humid and Partly Cloudy',\n",
    "    'Windy and Foggy', 'Windy and Overcast', 'Breezy and Foggy', 'Windy and Partly Cloudy', 'Breezy',\n",
    "    'Dry and Partly Cloudy', 'Windy and Mostly Cloudy', 'Dangerously Windy and Partly Cloudy', 'Dry',\n",
    "    'Windy', 'Humid and Overcast', 'Light Rain', 'Drizzle', 'Windy and Dry', 'Dry and Mostly Cloudy',\n",
    "    'Breezy and Dry', 'Rain'\n",
    "]\n",
    "\n",
    "# Function to extract phrases\n",
    "def extract_weather_phrases(sentence: str) -> List[str]:\n",
    "    words = word_tokenize(sentence)\n",
    "    phrases = []\n",
    "    current_phrase = []\n",
    "    in_phrase = False\n",
    "\n",
    "    for word in words:\n",
    "        if word in weather_related_words or word in stop_words or word in negations:\n",
    "            current_phrase.append(word)\n",
    "            in_phrase = True\n",
    "        else:\n",
    "            if in_phrase:\n",
    "                phrases.append(\" \".join(current_phrase))\n",
    "                current_phrase = []\n",
    "                in_phrase = False\n",
    "    if in_phrase:\n",
    "        phrases.append(\" \".join(current_phrase))\n",
    "\n",
    "    return phrases\n",
    "\n",
    "# Function to replace phrases in the sentence\n",
    "def replace_phrases(sentence: str, phrases: List[str]) -> str:\n",
    "    for phrase in phrases:\n",
    "        for comparison in comparison_list:\n",
    "            try:\n",
    "                similarity = model.similarity(phrase, comparison)\n",
    "                if similarity > 0.5:\n",
    "                    sentence = sentence.replace(phrase, comparison)\n",
    "                    break\n",
    "            except KeyError:\n",
    "                # Handle the case where the phrase or comparison word is not in the vocabulary\n",
    "                continue\n",
    "    return sentence\n",
    "\n",
    "# Main function to process the sentence\n",
    "def process_sentence(sentence: str) -> str:\n",
    "    phrases = extract_weather_phrases(sentence)\n",
    "    updated_sentence = replace_phrases(sentence, phrases)\n",
    "    return updated_sentence\n",
    "\n",
    "# Example usage\n",
    "sentence = \"It is going to rain and it might snow later but the weather is unpredictable.\"\n",
    "updated_sentence = process_sentence(sentence)\n",
    "print(updated_sentence)\n"
   ]
  },
  {
   "cell_type": "code",
   "execution_count": 14,
   "metadata": {},
   "outputs": [
    {
     "name": "stdout",
     "output_type": "stream",
     "text": [
      "['when']\n"
     ]
    }
   ],
   "source": [
    "# Import required libraries\n",
    "import spacy\n",
    "\n",
    "# Load the English NLP model\n",
    "nlp = spacy.load(\"en_core_web_sm\")\n",
    "\n",
    "# Function to extract conditions from a sentence\n",
    "def extract_conditions(sentence):\n",
    "    # Parse the sentence using the NLP model\n",
    "    doc = nlp(sentence)\n",
    "    \n",
    "    # Initialize a list to hold condition phrases\n",
    "    conditions = []\n",
    "    \n",
    "    # Traverse the dependency tree to find condition indicators\n",
    "    for token in doc:\n",
    "        if token.text.lower() in {\"when\", \"if\"}:\n",
    "            # Get the subtree of the token representing the condition\n",
    "            condition_phrase = [token.text]\n",
    "            for right in token.rights:\n",
    "                condition_phrase.append(right.text)\n",
    "                condition_phrase.extend([t.text for t in right.subtree if t != right])\n",
    "            conditions.append(\" \".join(condition_phrase))\n",
    "    \n",
    "    # Return the list of condition phrases\n",
    "    return conditions\n",
    "\n",
    "# Example usage\n",
    "sentence = \"Give temperature when it's hot and humid.\"\n",
    "conditions = extract_conditions(sentence)\n",
    "print(conditions)\n"
   ]
  },
  {
   "cell_type": "code",
   "execution_count": 21,
   "metadata": {},
   "outputs": [
    {
     "name": "stdout",
     "output_type": "stream",
     "text": [
      "give me humidity and wind speed given the weather is cold but not humid and temperature is 15.2\n"
     ]
    }
   ],
   "source": [
    "import re\n",
    "\n",
    "def reformat_sentence(sentence):\n",
    "    # Define patterns to identify \"what\" and \"condition\"\n",
    "    what_pattern = re.compile(r\"(what(?: will| is| are| can be)?|find|give|get|retrieve)?\\s*([^,]+?)\\s*(?:when|if|given|because|due to|who|that|be)\", re.IGNORECASE)\n",
    "    condition_pattern = re.compile(r\"(?:when|if|given|because|due to|who|that|be)\\s+(.+)$\", re.IGNORECASE)\n",
    "\n",
    "    # Search for patterns in the sentence\n",
    "    what_match = what_pattern.search(sentence)\n",
    "    condition_match = condition_pattern.search(sentence)\n",
    "    \n",
    "    # Extract matches\n",
    "    what = what_match.group(2).strip() if what_match else \"unknown\"\n",
    "    condition = condition_match.group(1).strip() if condition_match else \"unknown condition\"\n",
    "    \n",
    "    # Format the output\n",
    "    formatted_sentence = f\"give me {what} given {condition}\"\n",
    "    \n",
    "    return formatted_sentence\n",
    "\n",
    "# Example usage\n",
    "input_sentence = \"humidity and wind speed if the weather is cold but not humid and temperature is 15.2\"\n",
    "formatted_sentence = reformat_sentence(input_sentence)\n",
    "print(formatted_sentence)\n"
   ]
  }
 ],
 "metadata": {
  "kernelspec": {
   "display_name": "Python 3",
   "language": "python",
   "name": "python3"
  },
  "language_info": {
   "codemirror_mode": {
    "name": "ipython",
    "version": 3
   },
   "file_extension": ".py",
   "mimetype": "text/x-python",
   "name": "python",
   "nbconvert_exporter": "python",
   "pygments_lexer": "ipython3",
   "version": "3.11.3"
  }
 },
 "nbformat": 4,
 "nbformat_minor": 2
}
